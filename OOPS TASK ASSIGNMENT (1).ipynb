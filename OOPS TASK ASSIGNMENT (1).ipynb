{
 "cells": [
  {
   "cell_type": "markdown",
   "id": "847adbb7-db76-4977-981e-bb4bb638709c",
   "metadata": {},
   "source": [
    "Q1, Create a vehicle class with an init method having instance variables as name_of_vehicle, max_speed\n",
    "and average_of_vehicle."
   ]
  },
  {
   "cell_type": "code",
   "execution_count": 33,
   "id": "1dbda8fc-8a4a-447f-ad95-a5be9ad0ea5a",
   "metadata": {},
   "outputs": [],
   "source": [
    "#Answer\n",
    "\n",
    "class vehicle():\n",
    "    \n",
    "    def __init__(self, name_of_vehicle, max_speed, average_of_vehicle):\n",
    "        self.name_of_vehicle = name_of_vehicle\n",
    "        self.max_speed = max_speed\n",
    "        self.average_of_vehicle = average_of_vehicle\n",
    "        \n",
    "    def return_vehicle_details(self):\n",
    "        return self.max_speed, self.name_of_vehicle, self.average_of_vehicle"
   ]
  },
  {
   "cell_type": "code",
   "execution_count": 34,
   "id": "6f931211-1eca-4971-a508-930cc6a7e9b3",
   "metadata": {},
   "outputs": [],
   "source": [
    "my_vehicle = vehicle('car', 278, 50)"
   ]
  },
  {
   "cell_type": "code",
   "execution_count": 35,
   "id": "29823b92-546e-4fd6-987c-6bccbf8e316b",
   "metadata": {},
   "outputs": [
    {
     "data": {
      "text/plain": [
       "'car'"
      ]
     },
     "execution_count": 35,
     "metadata": {},
     "output_type": "execute_result"
    }
   ],
   "source": [
    "my_vehicle.name_of_vehicle"
   ]
  },
  {
   "cell_type": "code",
   "execution_count": 36,
   "id": "b21c3bd3-eb30-44d6-a790-f8cab04a5130",
   "metadata": {},
   "outputs": [
    {
     "data": {
      "text/plain": [
       "278"
      ]
     },
     "execution_count": 36,
     "metadata": {},
     "output_type": "execute_result"
    }
   ],
   "source": [
    "my_vehicle.max_speed"
   ]
  },
  {
   "cell_type": "code",
   "execution_count": 37,
   "id": "b93a6eb0-a86e-429c-85c8-1d253b6ab4fb",
   "metadata": {},
   "outputs": [
    {
     "data": {
      "text/plain": [
       "50"
      ]
     },
     "execution_count": 37,
     "metadata": {},
     "output_type": "execute_result"
    }
   ],
   "source": [
    "my_vehicle.average_of_vehicle"
   ]
  },
  {
   "cell_type": "code",
   "execution_count": 38,
   "id": "cf2310c8-075f-43a4-ba65-8b893443e387",
   "metadata": {},
   "outputs": [
    {
     "data": {
      "text/plain": [
       "(278, 'car', 50)"
      ]
     },
     "execution_count": 38,
     "metadata": {},
     "output_type": "execute_result"
    }
   ],
   "source": [
    "my_vehicle.return_vehicle_details()"
   ]
  },
  {
   "cell_type": "code",
   "execution_count": 39,
   "id": "c6e4781a-6e8b-489f-a879-2e8eb5a59b41",
   "metadata": {},
   "outputs": [],
   "source": [
    "my_vehicle = vehicle( 'train', 357.2, 36)"
   ]
  },
  {
   "cell_type": "code",
   "execution_count": 40,
   "id": "8c026dfd-59ed-4279-b0e7-d88a46eae7c4",
   "metadata": {},
   "outputs": [
    {
     "data": {
      "text/plain": [
       "(357.2, 'train', 36)"
      ]
     },
     "execution_count": 40,
     "metadata": {},
     "output_type": "execute_result"
    }
   ],
   "source": [
    "my_vehicle.return_vehicle_details()"
   ]
  },
  {
   "cell_type": "markdown",
   "id": "d768ab2e-88b4-43b3-a1dd-6c72edbb4923",
   "metadata": {},
   "source": [
    "                      -------------------------------------------------------------------"
   ]
  },
  {
   "cell_type": "markdown",
   "id": "e50b7706-a91a-4f8b-a565-44cf7cb90c5a",
   "metadata": {},
   "source": [
    "Q2. Create a child class car from the vehicle class created in Que 1, which will inherit the vehicle class.\n",
    "Create a method named seating_capacity which takes capacity as an argument and returns the name of\n",
    "the vehicle and its seating capacity."
   ]
  },
  {
   "cell_type": "code",
   "execution_count": 59,
   "id": "83aa704a-fa4b-4e0c-9a2f-a27f0a2527f2",
   "metadata": {},
   "outputs": [],
   "source": [
    "#Answer\n",
    "\n",
    "\n",
    "class vehicle():\n",
    "    \n",
    "    def __init__(self, name_of_vehicle, max_speed, average_of_vehicle):\n",
    "        self.name_of_vehicle = name_of_vehicle\n",
    "        self.max_speed = max_speed\n",
    "        self.average_of_vehicle = average_of_vehicle\n",
    "        \n",
    "    def return_vehicle_details(self):\n",
    "        return self.max_speed, self.name_of_vehicle, self.average_of_vehicle\n",
    "\n",
    "\n",
    "class car(vehicle):\n",
    "    \n",
    "    def seating_capacity(self, capacity):\n",
    "        return f\"{self.name_of_vehicle} has a seating capacity of {capacity}\"\n"
   ]
  },
  {
   "cell_type": "code",
   "execution_count": 61,
   "id": "ba865f3f-8fca-4e6f-a649-c88a73e54d35",
   "metadata": {},
   "outputs": [
    {
     "name": "stdout",
     "output_type": "stream",
     "text": [
      "car has a seating capacity of 4\n"
     ]
    }
   ],
   "source": [
    "car = car('car', 278, 50) \n",
    "capacity = 4\n",
    "result = car.seating_capacity(4)\n",
    "print (result)"
   ]
  },
  {
   "cell_type": "markdown",
   "id": "61e7fe27-1fe2-442b-9990-ddf2b4958328",
   "metadata": {},
   "source": [
    "                      -------------------------------------------------------------------"
   ]
  },
  {
   "cell_type": "markdown",
   "id": "ee58e8fc-6392-4da0-a0c9-2443f93e661c",
   "metadata": {},
   "source": [
    "Q3. What is multiple inheritance? Write a python code to demonstrate multiple inheritance."
   ]
  },
  {
   "cell_type": "markdown",
   "id": "16c4f092-c192-47e2-ac13-dbaf645b708e",
   "metadata": {},
   "source": [
    "#Answer\n",
    "\n",
    "Multiple inheritance is a feature that allows a class to inherit from two or more other classes. This means that the derived class will inherit all the properties and methods of the base classes, as well as any additional properties and methods that are defined in the derived class itself.\n"
   ]
  },
  {
   "cell_type": "code",
   "execution_count": 1,
   "id": "ed7240e1-90a5-4dfd-9c7a-0590ea957405",
   "metadata": {},
   "outputs": [],
   "source": [
    "class manju:\n",
    " \n",
    "    def  manju_looks(self):\n",
    "        return \"he is a good boy\"        "
   ]
  },
  {
   "cell_type": "code",
   "execution_count": 2,
   "id": "d3395867-26ec-4187-9da7-6a114ea39835",
   "metadata": {},
   "outputs": [],
   "source": [
    "class sabreen:\n",
    "   \n",
    "    def sabreen_behave(self):\n",
    "        return \"she is a decent girl\""
   ]
  },
  {
   "cell_type": "code",
   "execution_count": 3,
   "id": "b2991d46-fc99-412e-9f1d-35306fed5e16",
   "metadata": {},
   "outputs": [],
   "source": [
    "class both( manju, sabreen):\n",
    "    \n",
    "    def love(self):\n",
    "        return \"both of them love each other unconditionally\""
   ]
  },
  {
   "cell_type": "code",
   "execution_count": 4,
   "id": "7f4876f0-b58b-4da8-a869-3112a65eaac9",
   "metadata": {},
   "outputs": [],
   "source": [
    "they_both = both()"
   ]
  },
  {
   "cell_type": "code",
   "execution_count": 5,
   "id": "b6efa533-fc02-4449-a459-a0d465bc841d",
   "metadata": {},
   "outputs": [
    {
     "data": {
      "text/plain": [
       "'he is a good boy'"
      ]
     },
     "execution_count": 5,
     "metadata": {},
     "output_type": "execute_result"
    }
   ],
   "source": [
    "they_both.manju_looks()"
   ]
  },
  {
   "cell_type": "code",
   "execution_count": 6,
   "id": "585fe967-29c9-47d6-b159-7182297a99e7",
   "metadata": {},
   "outputs": [
    {
     "data": {
      "text/plain": [
       "'she is a decent girl'"
      ]
     },
     "execution_count": 6,
     "metadata": {},
     "output_type": "execute_result"
    }
   ],
   "source": [
    "they_both.sabreen_behave()"
   ]
  },
  {
   "cell_type": "code",
   "execution_count": 7,
   "id": "2db8826a-b78a-4925-bb45-2f88c6699436",
   "metadata": {},
   "outputs": [
    {
     "data": {
      "text/plain": [
       "'both of them love each other unconditionally'"
      ]
     },
     "execution_count": 7,
     "metadata": {},
     "output_type": "execute_result"
    }
   ],
   "source": [
    "they_both.love()"
   ]
  },
  {
   "cell_type": "markdown",
   "id": "ab68aa9b-06e7-48ba-9454-ab662e3c7fc2",
   "metadata": {},
   "source": [
    "                      -------------------------------------------------------------------"
   ]
  },
  {
   "cell_type": "markdown",
   "id": "603d8454-0f91-4c58-9047-9330eaa2c9b0",
   "metadata": {},
   "source": [
    "Q4. What are getter and setter in python? Create a class and create a getter and a setter method in this\n",
    "class."
   ]
  },
  {
   "cell_type": "markdown",
   "id": "248b27a1-8f32-4463-ad16-564a54f9527b",
   "metadata": {},
   "source": [
    "\n",
    "Getters and setters are methods are used to access and modify the attributes of an object. \n",
    "Getters are used to retrieve the value of an attribute, \n",
    "while setters are used to set the value of an attribute."
   ]
  },
  {
   "cell_type": "code",
   "execution_count": 71,
   "id": "d01c6029-65e5-4fe4-aa1a-cd5c9feb57f6",
   "metadata": {},
   "outputs": [],
   "source": [
    "class vegetables:\n",
    "      \n",
    "    def __init__(self, name,  price, demand, supply):\n",
    "        self.__name = name\n",
    "        self.__price = price\n",
    "        self.__demand = demand\n",
    "        self.__supply = supply\n",
    "        \n",
    "    def set_demand(self , demand):\n",
    "            if self.__price >= 200:\n",
    "                self.__demand = \"low\"\n",
    "            else:\n",
    "                self.__demand = \"high\"\n",
    "                \n",
    "        \n",
    "            \n",
    "    def get_demand( self):\n",
    "            return self.__demand"
   ]
  },
  {
   "cell_type": "code",
   "execution_count": 72,
   "id": "dd97cf69-f5d9-4ae7-a82d-e763d2358448",
   "metadata": {},
   "outputs": [],
   "source": [
    "details_of_vegetables = vegetables(\"onion\", 100, 50, 200)"
   ]
  },
  {
   "cell_type": "code",
   "execution_count": 73,
   "id": "15532e5a-3d16-4d2f-a19b-e8eb8affe63b",
   "metadata": {},
   "outputs": [],
   "source": [
    "details_of_vegetables.set_demand(250)"
   ]
  },
  {
   "cell_type": "code",
   "execution_count": 74,
   "id": "877e1ba9-c0d8-4fc9-b749-6f9c057664c5",
   "metadata": {},
   "outputs": [
    {
     "data": {
      "text/plain": [
       "'high'"
      ]
     },
     "execution_count": 74,
     "metadata": {},
     "output_type": "execute_result"
    }
   ],
   "source": [
    "details_of_vegetables.get_demand()"
   ]
  },
  {
   "cell_type": "code",
   "execution_count": 75,
   "id": "34c70d91-9c5f-4994-839d-69ae6259e9aa",
   "metadata": {},
   "outputs": [],
   "source": [
    "details_of_vegetables.set_demand(200)"
   ]
  },
  {
   "cell_type": "code",
   "execution_count": 76,
   "id": "95058384-7843-41a1-ab7c-8f80d4eca518",
   "metadata": {},
   "outputs": [
    {
     "data": {
      "text/plain": [
       "'high'"
      ]
     },
     "execution_count": 76,
     "metadata": {},
     "output_type": "execute_result"
    }
   ],
   "source": [
    "details_of_vegetables.get_demand()"
   ]
  },
  {
   "cell_type": "code",
   "execution_count": 77,
   "id": "c5586bad-19ea-433b-adda-96a8f83d17b9",
   "metadata": {},
   "outputs": [],
   "source": [
    "details_of_vegetables = vegetables(\"onion\", 200, 50, 200)"
   ]
  },
  {
   "cell_type": "code",
   "execution_count": 78,
   "id": "677b2bec-b621-4a87-b24c-c1e8dc866f3c",
   "metadata": {},
   "outputs": [],
   "source": [
    "details_of_vegetables.set_demand(100)"
   ]
  },
  {
   "cell_type": "code",
   "execution_count": 79,
   "id": "4a9811d3-2af4-457f-bef3-39eedd860136",
   "metadata": {},
   "outputs": [
    {
     "data": {
      "text/plain": [
       "'low'"
      ]
     },
     "execution_count": 79,
     "metadata": {},
     "output_type": "execute_result"
    }
   ],
   "source": [
    "details_of_vegetables.get_demand()"
   ]
  },
  {
   "cell_type": "code",
   "execution_count": 80,
   "id": "8254b954-5774-499e-9ce1-dedbb7afeea5",
   "metadata": {},
   "outputs": [],
   "source": [
    "details_of_vegetables = vegetables(\"onion\", 250, 50, 200)"
   ]
  },
  {
   "cell_type": "code",
   "execution_count": 81,
   "id": "ee5cae47-791a-42c0-8b73-9c158cc0a2bf",
   "metadata": {},
   "outputs": [],
   "source": [
    "details_of_vegetables.set_demand(150)"
   ]
  },
  {
   "cell_type": "code",
   "execution_count": 82,
   "id": "6f06b07d-c895-4d5f-be50-e7e71d184059",
   "metadata": {},
   "outputs": [
    {
     "data": {
      "text/plain": [
       "'low'"
      ]
     },
     "execution_count": 82,
     "metadata": {},
     "output_type": "execute_result"
    }
   ],
   "source": [
    "details_of_vegetables.get_demand()"
   ]
  },
  {
   "cell_type": "markdown",
   "id": "cefbaf43-6ff9-49ad-b189-2a56c6f188e8",
   "metadata": {},
   "source": [
    "                      -------------------------------------------------------------------"
   ]
  },
  {
   "cell_type": "markdown",
   "id": "d83dbde1-120b-428e-9820-73b17987c381",
   "metadata": {},
   "source": [
    "Q5.What is method overriding in python? Write a python code to demonstrate method overriding."
   ]
  },
  {
   "cell_type": "markdown",
   "id": "9b2a2f5a-37da-4060-a15f-b865a9ab6d03",
   "metadata": {},
   "source": [
    "#Answer\n",
    "Method overriding  refers to the ability of a subclass to provide a different implementation of a method that is already defined in its superclass. When a method in the subclass has the same name and parameters as a method in the superclass, it overrides the superclass method.\n"
   ]
  },
  {
   "cell_type": "code",
   "execution_count": 9,
   "id": "0c19a3ae-1972-487b-88f8-1f8b892e6065",
   "metadata": {},
   "outputs": [],
   "source": [
    "class kouser:\n",
    "    def speak(self):\n",
    "        print('kouser is speaking smoothly')"
   ]
  },
  {
   "cell_type": "code",
   "execution_count": 10,
   "id": "688ef6eb-ff8a-4b97-96d4-8e55e42a0525",
   "metadata": {},
   "outputs": [],
   "source": [
    "class naz(kouser):\n",
    "    def speak(self):\n",
    "        print(\"naz is speaking very arrogantly\")"
   ]
  },
  {
   "cell_type": "code",
   "execution_count": 11,
   "id": "a9f1a270-8801-4675-903d-35a4dbf30129",
   "metadata": {},
   "outputs": [],
   "source": [
    "Kouser = kouser()"
   ]
  },
  {
   "cell_type": "code",
   "execution_count": 12,
   "id": "0184810c-5475-494b-8478-a529fb9cefe8",
   "metadata": {},
   "outputs": [
    {
     "name": "stdout",
     "output_type": "stream",
     "text": [
      "kouser is speaking smoothly\n"
     ]
    }
   ],
   "source": [
    "Kouser.speak()"
   ]
  },
  {
   "cell_type": "code",
   "execution_count": 13,
   "id": "81285e64-8b6b-4fc0-b1da-e9464a88c0b1",
   "metadata": {},
   "outputs": [],
   "source": [
    "Naz = naz()"
   ]
  },
  {
   "cell_type": "code",
   "execution_count": 14,
   "id": "6841aa19-1a70-4b40-848d-f248b0f23f75",
   "metadata": {},
   "outputs": [
    {
     "name": "stdout",
     "output_type": "stream",
     "text": [
      "naz is speaking very arrogantly\n"
     ]
    }
   ],
   "source": [
    "Naz.speak()"
   ]
  },
  {
   "cell_type": "markdown",
   "id": "4bd56842-96dd-463e-9a53-abe5f7acc2c6",
   "metadata": {},
   "source": [
    "                       -------------------------------------------------------------------"
   ]
  }
 ],
 "metadata": {
  "kernelspec": {
   "display_name": "Python 3 (ipykernel)",
   "language": "python",
   "name": "python3"
  },
  "language_info": {
   "codemirror_mode": {
    "name": "ipython",
    "version": 3
   },
   "file_extension": ".py",
   "mimetype": "text/x-python",
   "name": "python",
   "nbconvert_exporter": "python",
   "pygments_lexer": "ipython3",
   "version": "3.10.8"
  }
 },
 "nbformat": 4,
 "nbformat_minor": 5
}
